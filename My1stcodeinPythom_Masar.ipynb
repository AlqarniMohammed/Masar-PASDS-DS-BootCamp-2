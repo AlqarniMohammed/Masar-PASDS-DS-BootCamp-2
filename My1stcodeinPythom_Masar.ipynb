{
  "nbformat": 4,
  "nbformat_minor": 0,
  "metadata": {
    "colab": {
      "provenance": [],
      "authorship_tag": "ABX9TyNOJUwWj2AgR7xz6EA0xX/G",
      "include_colab_link": true
    },
    "kernelspec": {
      "name": "python3",
      "display_name": "Python 3"
    },
    "language_info": {
      "name": "python"
    }
  },
  "cells": [
    {
      "cell_type": "markdown",
      "metadata": {
        "id": "view-in-github",
        "colab_type": "text"
      },
      "source": [
        "<a href=\"https://colab.research.google.com/github/AlqarniMohammed/Masar-Bootcamp/blob/main/My1stcodeinPythom_Masar.ipynb\" target=\"_parent\"><img src=\"https://colab.research.google.com/assets/colab-badge.svg\" alt=\"Open In Colab\"/></a>"
      ]
    },
    {
      "cell_type": "code",
      "execution_count": 2,
      "metadata": {
        "colab": {
          "base_uri": "https://localhost:8080/"
        },
        "id": "Udr-CA4Ccgns",
        "outputId": "f585fc10-ebf4-47af-8e3f-07d93072ccf8"
      },
      "outputs": [
        {
          "output_type": "stream",
          "name": "stdout",
          "text": [
            "My name is Mohammed\n",
            "My age is 22\n"
          ]
        }
      ],
      "source": [
        "#The First code with Masar\n",
        "name = \"Mohammed\"\n",
        "age = 22\n",
        "print(\"My name is \" + name)\n",
        "print(\"My age is \" + str(age))"
      ]
    }
  ]
}