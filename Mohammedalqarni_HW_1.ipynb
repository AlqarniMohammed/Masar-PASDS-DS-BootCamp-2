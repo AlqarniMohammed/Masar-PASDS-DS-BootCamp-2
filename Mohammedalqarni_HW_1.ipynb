{
  "nbformat": 4,
  "nbformat_minor": 0,
  "metadata": {
    "colab": {
      "provenance": [],
      "authorship_tag": "ABX9TyO5fQLIkHSHZ6G4yLct7T8T",
      "include_colab_link": true
    },
    "kernelspec": {
      "name": "python3",
      "display_name": "Python 3"
    },
    "language_info": {
      "name": "python"
    }
  },
  "cells": [
    {
      "cell_type": "markdown",
      "metadata": {
        "id": "view-in-github",
        "colab_type": "text"
      },
      "source": [
        "<a href=\"https://colab.research.google.com/github/AlqarniMohammed/Masar-Bootcamp/blob/main/Mohammedalqarni_HW_1.ipynb\" target=\"_parent\"><img src=\"https://colab.research.google.com/assets/colab-badge.svg\" alt=\"Open In Colab\"/></a>"
      ]
    },
    {
      "cell_type": "code",
      "execution_count": 5,
      "metadata": {
        "colab": {
          "base_uri": "https://localhost:8080/"
        },
        "id": "PpgRYFIgLsuZ",
        "outputId": "100ac63b-6fbe-46e7-d361-c82a64d23f3d"
      },
      "outputs": [
        {
          "output_type": "stream",
          "name": "stdout",
          "text": [
            "Welcome all ,My name is Mohammed, and My age is 22,I hope to become a great programmer and a great data scientist \n"
          ]
        }
      ],
      "source": [
        "#I defined a variable for my name\n",
        "name = \"Mohammed\"\n",
        "#I defined a variable for my age\n",
        "age = \"22\"\n",
        "#I added the print command and added a sentence I wanted to say\n",
        "print(f'Welcome all ,My name is {name}, and My age is {age},I hope to become a great programmer and a great data scientist ')"
      ]
    }
  ]
}