{
  "nbformat": 4,
  "nbformat_minor": 0,
  "metadata": {
    "colab": {
      "provenance": [],
      "authorship_tag": "ABX9TyON8C57P5/S5St7Mzie+8SQ",
      "include_colab_link": true
    },
    "kernelspec": {
      "name": "python3",
      "display_name": "Python 3"
    },
    "language_info": {
      "name": "python"
    }
  },
  "cells": [
    {
      "cell_type": "markdown",
      "metadata": {
        "id": "view-in-github",
        "colab_type": "text"
      },
      "source": [
        "<a href=\"https://colab.research.google.com/github/AlqarniMohammed/Masar-PASDS-DS-BootCamp-2/blob/main/MohammedAlqarni_HW_2.ipynb\" target=\"_parent\"><img src=\"https://colab.research.google.com/assets/colab-badge.svg\" alt=\"Open In Colab\"/></a>"
      ]
    },
    {
      "cell_type": "code",
      "execution_count": 10,
      "metadata": {
        "colab": {
          "base_uri": "https://localhost:8080/"
        },
        "id": "468f7GinEyvw",
        "outputId": "d9920060-58e7-43a9-9e47-4adce71c8b5e"
      },
      "outputs": [
        {
          "output_type": "stream",
          "name": "stdout",
          "text": [
            "The bonus is 10%\n"
          ]
        }
      ],
      "source": [
        "#x is The number of experiance years\n",
        "#y is Performance evaluation\n",
        "# For example , employer has 3 experiance years and his performance evaluation is excellent\n",
        "x = 3\n",
        "y = \"excellent\"\n",
        "if x <= 10 and y == \"excellent\" :\n",
        "  print(\"The bonus is 10%\")\n",
        "elif y == \"poor\" :\n",
        "  print(\"The bonus is 5%\")\n",
        "if x > 10 and y== \"excellent\" :\n",
        "  print(\"The bonus is 20%\")\n",
        "elif y == \"poor\" :\n",
        "  print(\"The bonus is 15%\")"
      ]
    }
  ]
}