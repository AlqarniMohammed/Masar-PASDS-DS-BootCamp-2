{
  "nbformat": 4,
  "nbformat_minor": 0,
  "metadata": {
    "colab": {
      "provenance": [],
      "include_colab_link": true
    },
    "kernelspec": {
      "name": "python3",
      "display_name": "Python 3"
    },
    "language_info": {
      "name": "python"
    }
  },
  "cells": [
    {
      "cell_type": "markdown",
      "metadata": {
        "id": "view-in-github",
        "colab_type": "text"
      },
      "source": [
        "<a href=\"https://colab.research.google.com/github/AlqarniMohammed/Masar-PASDS-DS-BootCamp-2/blob/main/MohammedAlqarniQuiz.ipynb\" target=\"_parent\"><img src=\"https://colab.research.google.com/assets/colab-badge.svg\" alt=\"Open In Colab\"/></a>"
      ]
    },
    {
      "cell_type": "markdown",
      "source": [
        "فلتعتبر أن لديك مصفوفة فيها عدة أرقام, حاول أن تجد عددين يكون المجموع عدد معرف مسبق معطى لك. فلنفرض أن المجموع موجود في هذه المصفوفة\n",
        "\n",
        "\n",
        "قم بالآتي:\n",
        "1. افتح صفحة جديدة في جوبتر نووت وحاول أنت تحل السؤال بلغة بايثون\n",
        "2. ارفع الملف أو الرابط ليتم تصحيحه\n",
        "\n",
        "في الأسفل نموذج حل, حاول أن تطلع عليه بعد أن تحاول الحل\n",
        "\n",
        "\n",
        "[Video Solution](https://www.youtube.com/watch?v=JMCTsP0Jxmc)\n",
        "\n"
      ],
      "metadata": {
        "id": "SnyFgfnyEu1g"
      }
    },
    {
      "cell_type": "code",
      "execution_count": 2,
      "metadata": {
        "id": "spgwwSHWEtHK",
        "outputId": "eaa5e6ac-3553-4f4e-eb7e-a457588e2206",
        "colab": {
          "base_uri": "https://localhost:8080/"
        }
      },
      "outputs": [
        {
          "output_type": "stream",
          "name": "stdout",
          "text": [
            "[0, 3]\n"
          ]
        }
      ],
      "source": [
        "def two_sum(nums, target):\n",
        "    num_dict = {}\n",
        "    for i, num in enumerate(nums):\n",
        "        difference = target - num\n",
        "        if difference in num_dict:\n",
        "            return [num_dict[difference], i]\n",
        "        num_dict[num] = i\n",
        "    return None\n",
        "nums = [2, 5, 11, 15,6,7,9,10]\n",
        "target = 17\n",
        "print(two_sum(nums, target))"
      ]
    }
  ]
}